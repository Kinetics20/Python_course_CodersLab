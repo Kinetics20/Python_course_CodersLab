{
 "cells": [
  {
   "cell_type": "code",
   "execution_count": 6,
   "id": "initial_id",
   "metadata": {
    "collapsed": true,
    "ExecuteTime": {
     "end_time": "2023-11-10T22:01:25.625409400Z",
     "start_time": "2023-11-10T22:01:25.581865771Z"
    }
   },
   "outputs": [],
   "source": [
    "x =23568"
   ]
  },
  {
   "cell_type": "code",
   "execution_count": 7,
   "outputs": [
    {
     "data": {
      "text/plain": "23568"
     },
     "execution_count": 7,
     "metadata": {},
     "output_type": "execute_result"
    }
   ],
   "source": [
    "x"
   ],
   "metadata": {
    "collapsed": false,
    "ExecuteTime": {
     "end_time": "2023-11-10T22:01:27.255643706Z",
     "start_time": "2023-11-10T22:01:27.241948874Z"
    }
   },
   "id": "2eead9d3d08cabaa"
  },
  {
   "cell_type": "code",
   "execution_count": 9,
   "outputs": [
    {
     "data": {
      "text/plain": "[0, 1, 2, 3, 4, 5]"
     },
     "execution_count": 9,
     "metadata": {},
     "output_type": "execute_result"
    }
   ],
   "source": [
    "list(range(6))"
   ],
   "metadata": {
    "collapsed": false,
    "ExecuteTime": {
     "end_time": "2023-11-10T22:05:12.562356838Z",
     "start_time": "2023-11-10T22:05:12.518341711Z"
    }
   },
   "id": "af498b8b350c3d1a"
  },
  {
   "cell_type": "code",
   "execution_count": 20,
   "outputs": [
    {
     "data": {
      "text/plain": "[0, 3, 6, 9]"
     },
     "execution_count": 20,
     "metadata": {},
     "output_type": "execute_result"
    }
   ],
   "source": [
    "def my_range(m ,n ,z):\n",
    "    return list(range(m, n, z))\n",
    "\n",
    "my_range(0, 12, 3)"
   ],
   "metadata": {
    "collapsed": false,
    "ExecuteTime": {
     "end_time": "2023-11-10T22:16:09.872761797Z",
     "start_time": "2023-11-10T22:16:09.832884888Z"
    }
   },
   "id": "329317a5a7ff371f"
  },
  {
   "cell_type": "markdown",
   "source": [
    " ## Range - version with while\n",
    " ------------------------------\n",
    " #[start , stop , step ]"
   ],
   "metadata": {
    "collapsed": false
   },
   "id": "80d57620131d3f24"
  },
  {
   "cell_type": "code",
   "execution_count": 14,
   "outputs": [
    {
     "data": {
      "text/plain": "[0, 1, 2, 3, 4]"
     },
     "execution_count": 14,
     "metadata": {},
     "output_type": "execute_result"
    }
   ],
   "source": [
    "def my_range_2(start,stop=None,step=1):\n",
    "    \n",
    "    if stop is None:\n",
    "        stop = start\n",
    "        start = 0\n",
    "        \n",
    "    temp = []\n",
    "    item = start\n",
    "    \n",
    "    while len(temp) < (stop - start) // step:\n",
    "        temp.append(item)\n",
    "        item += step\n",
    "    \n",
    "    return temp \n",
    "\n",
    "my_range_2(0, 5)"
   ],
   "metadata": {
    "collapsed": false,
    "ExecuteTime": {
     "end_time": "2023-11-11T00:46:28.742674180Z",
     "start_time": "2023-11-11T00:46:00.053354599Z"
    }
   },
   "id": "449396897afa66c5"
  },
  {
   "cell_type": "code",
   "execution_count": 5,
   "outputs": [
    {
     "data": {
      "text/plain": "[0, 1, 2, 3, 4, 5, 6, 7, 8, 9, 10]"
     },
     "execution_count": 5,
     "metadata": {},
     "output_type": "execute_result"
    }
   ],
   "source": [
    "my_range_2(11)"
   ],
   "metadata": {
    "collapsed": false,
    "ExecuteTime": {
     "end_time": "2023-11-11T00:16:04.175405761Z",
     "start_time": "2023-11-11T00:16:04.165814577Z"
    }
   },
   "id": "f376533564d1583f"
  },
  {
   "cell_type": "code",
   "execution_count": 6,
   "outputs": [
    {
     "data": {
      "text/plain": "[2, 3, 4, 5, 6, 7, 8, 9, 10]"
     },
     "execution_count": 6,
     "metadata": {},
     "output_type": "execute_result"
    }
   ],
   "source": [
    "my_range_2(2, 11)"
   ],
   "metadata": {
    "collapsed": false,
    "ExecuteTime": {
     "end_time": "2023-11-11T00:16:07.151861267Z",
     "start_time": "2023-11-11T00:16:07.101216825Z"
    }
   },
   "id": "8cc16bde123351ff"
  },
  {
   "cell_type": "code",
   "execution_count": 10,
   "outputs": [
    {
     "data": {
      "text/plain": "[2, 4, 6, 8]"
     },
     "execution_count": 10,
     "metadata": {},
     "output_type": "execute_result"
    }
   ],
   "source": [
    "my_range_2(2, 10, 2)"
   ],
   "metadata": {
    "collapsed": false,
    "ExecuteTime": {
     "end_time": "2023-11-11T00:21:40.170176781Z",
     "start_time": "2023-11-11T00:21:40.161774868Z"
    }
   },
   "id": "77b1b7d8a1a1aaf9"
  },
  {
   "cell_type": "code",
   "execution_count": 60,
   "outputs": [
    {
     "data": {
      "text/plain": "[2, 3, 4, 5, 6, 7, 8, 9, 10]"
     },
     "execution_count": 60,
     "metadata": {},
     "output_type": "execute_result"
    }
   ],
   "source": [
    "list(range(2,11))"
   ],
   "metadata": {
    "collapsed": false,
    "ExecuteTime": {
     "end_time": "2023-11-10T23:43:49.052980473Z",
     "start_time": "2023-11-10T23:43:49.043102809Z"
    }
   },
   "id": "8e33717aa7b37377"
  },
  {
   "cell_type": "code",
   "execution_count": 11,
   "outputs": [
    {
     "data": {
      "text/plain": "[2, 4, 6, 8]"
     },
     "execution_count": 11,
     "metadata": {},
     "output_type": "execute_result"
    }
   ],
   "source": [
    "my_range_2(2, 10,2)"
   ],
   "metadata": {
    "collapsed": false,
    "ExecuteTime": {
     "end_time": "2023-11-11T00:21:49.632969256Z",
     "start_time": "2023-11-11T00:21:49.621818722Z"
    }
   },
   "id": "6b5f333e4335a363"
  },
  {
   "cell_type": "code",
   "execution_count": 12,
   "outputs": [
    {
     "data": {
      "text/plain": "[10, 8, 6, 4]"
     },
     "execution_count": 12,
     "metadata": {},
     "output_type": "execute_result"
    }
   ],
   "source": [
    "my_range_2(10,2,-2)"
   ],
   "metadata": {
    "collapsed": false,
    "ExecuteTime": {
     "end_time": "2023-11-11T00:24:47.196833808Z",
     "start_time": "2023-11-11T00:24:47.178419400Z"
    }
   },
   "id": "3bce6f630574a748"
  },
  {
   "cell_type": "code",
   "execution_count": 11,
   "outputs": [
    {
     "data": {
      "text/plain": "[2, 4, 6, 8, 10]"
     },
     "execution_count": 11,
     "metadata": {},
     "output_type": "execute_result"
    }
   ],
   "source": [
    "list(range(2, 11,2))"
   ],
   "metadata": {
    "collapsed": false,
    "ExecuteTime": {
     "end_time": "2023-11-10T22:06:00.096336562Z",
     "start_time": "2023-11-10T22:06:00.061549646Z"
    }
   },
   "id": "9c579ff92f4b5286"
  },
  {
   "cell_type": "code",
   "execution_count": 13,
   "outputs": [
    {
     "data": {
      "text/plain": "[10, 9, 8, 7, 6, 5, 4, 3, 2, 1, 0]"
     },
     "execution_count": 13,
     "metadata": {},
     "output_type": "execute_result"
    }
   ],
   "source": [
    "list(range(10, -1, -1))"
   ],
   "metadata": {
    "collapsed": false,
    "ExecuteTime": {
     "end_time": "2023-11-10T22:07:24.937112998Z",
     "start_time": "2023-11-10T22:07:24.892648854Z"
    }
   },
   "id": "c6caa2fe0df54855"
  },
  {
   "cell_type": "markdown",
   "source": [
    "# Slicing\n",
    "---\n",
    "### [index] - tylko index \n",
    "### [start:] - od pewnej wartosci do konca / start jest ta wartoscia\n",
    "### [:stop] - od poczatku do pewnej wartosci / stop jest ta wartoscia\n",
    "### [start:stop:step] - od wartosci do wartosci ze stepem\n",
    "### [::step] - od poczatku do konca ze stepem\n",
    "### [start:step] - od wartosci do wartosci\n"
   ],
   "metadata": {
    "collapsed": false
   },
   "id": "640702716b75d303"
  },
  {
   "cell_type": "code",
   "execution_count": 3,
   "outputs": [],
   "source": [
    "text = 'Ala ma kota'"
   ],
   "metadata": {
    "collapsed": false,
    "ExecuteTime": {
     "end_time": "2023-11-11T08:56:44.666255773Z",
     "start_time": "2023-11-11T08:56:44.656599801Z"
    }
   },
   "id": "627e6330874b65ee"
  },
  {
   "cell_type": "code",
   "execution_count": 64,
   "outputs": [
    {
     "data": {
      "text/plain": "'Ala'"
     },
     "execution_count": 64,
     "metadata": {},
     "output_type": "execute_result"
    }
   ],
   "source": [
    "text[:3]"
   ],
   "metadata": {
    "collapsed": false,
    "ExecuteTime": {
     "end_time": "2023-11-11T15:45:25.879184797Z",
     "start_time": "2023-11-11T15:45:25.834771415Z"
    }
   },
   "id": "509bd8f281ea3afb"
  },
  {
   "cell_type": "code",
   "execution_count": 79,
   "outputs": [
    {
     "data": {
      "text/plain": "'atok'"
     },
     "execution_count": 79,
     "metadata": {},
     "output_type": "execute_result"
    }
   ],
   "source": [
    "text[-1:-5:-1]"
   ],
   "metadata": {
    "collapsed": false,
    "ExecuteTime": {
     "end_time": "2023-11-11T16:00:16.470625700Z",
     "start_time": "2023-11-11T16:00:16.420663918Z"
    }
   },
   "id": "6586c89d69c12293"
  },
  {
   "cell_type": "code",
   "execution_count": 80,
   "outputs": [
    {
     "data": {
      "text/plain": "'atok'"
     },
     "execution_count": 80,
     "metadata": {},
     "output_type": "execute_result"
    }
   ],
   "source": [
    "text[-4:][::-1]"
   ],
   "metadata": {
    "collapsed": false,
    "ExecuteTime": {
     "end_time": "2023-11-11T16:06:18.367205388Z",
     "start_time": "2023-11-11T16:06:18.284300487Z"
    }
   },
   "id": "723fdcf1d2cfa3d8"
  },
  {
   "cell_type": "code",
   "execution_count": 81,
   "outputs": [],
   "source": [
    "l = [1, 2, 3, 4, 5]"
   ],
   "metadata": {
    "collapsed": false,
    "ExecuteTime": {
     "end_time": "2023-11-11T16:07:13.027131452Z",
     "start_time": "2023-11-11T16:07:12.985082365Z"
    }
   },
   "id": "71dae3ff2725be72"
  },
  {
   "cell_type": "code",
   "execution_count": 82,
   "outputs": [
    {
     "data": {
      "text/plain": "[5, 4, 3, 2, 1]"
     },
     "execution_count": 82,
     "metadata": {},
     "output_type": "execute_result"
    }
   ],
   "source": [
    "l[::-1]"
   ],
   "metadata": {
    "collapsed": false,
    "ExecuteTime": {
     "end_time": "2023-11-11T16:07:33.155051958Z",
     "start_time": "2023-11-11T16:07:33.139259199Z"
    }
   },
   "id": "c8a1f4dc49d87c4a"
  },
  {
   "cell_type": "code",
   "execution_count": 84,
   "outputs": [
    {
     "data": {
      "text/plain": "[5, 4, 3]"
     },
     "execution_count": 84,
     "metadata": {},
     "output_type": "execute_result"
    }
   ],
   "source": [
    "l[-3:][::-1]"
   ],
   "metadata": {
    "collapsed": false,
    "ExecuteTime": {
     "end_time": "2023-11-11T16:09:35.088575248Z",
     "start_time": "2023-11-11T16:09:35.074858281Z"
    }
   },
   "id": "acbf3aecde1bf434"
  },
  {
   "cell_type": "code",
   "execution_count": 88,
   "outputs": [
    {
     "data": {
      "text/plain": "[3, 2, 1]"
     },
     "execution_count": 88,
     "metadata": {},
     "output_type": "execute_result"
    }
   ],
   "source": [
    "l[-3::-1]"
   ],
   "metadata": {
    "collapsed": false,
    "ExecuteTime": {
     "end_time": "2023-11-11T16:11:48.507327165Z",
     "start_time": "2023-11-11T16:11:48.491916876Z"
    }
   },
   "id": "d0830ebc7886519e"
  },
  {
   "cell_type": "code",
   "execution_count": 65,
   "outputs": [
    {
     "data": {
      "text/plain": "' ma'"
     },
     "execution_count": 65,
     "metadata": {},
     "output_type": "execute_result"
    }
   ],
   "source": [
    "text[3:6]"
   ],
   "metadata": {
    "collapsed": false,
    "ExecuteTime": {
     "end_time": "2023-11-11T15:46:10.294156946Z",
     "start_time": "2023-11-11T15:46:10.246342956Z"
    }
   },
   "id": "aba4110c57cccf1d"
  },
  {
   "cell_type": "code",
   "execution_count": 66,
   "outputs": [
    {
     "data": {
      "text/plain": "'kota'"
     },
     "execution_count": 66,
     "metadata": {},
     "output_type": "execute_result"
    }
   ],
   "source": [
    "text[7:]"
   ],
   "metadata": {
    "collapsed": false,
    "ExecuteTime": {
     "end_time": "2023-11-11T15:46:56.075754566Z",
     "start_time": "2023-11-11T15:46:56.032741559Z"
    }
   },
   "id": "abef65a29e4a4c8b"
  },
  {
   "cell_type": "code",
   "execution_count": 69,
   "outputs": [
    {
     "data": {
      "text/plain": "'kota'"
     },
     "execution_count": 69,
     "metadata": {},
     "output_type": "execute_result"
    }
   ],
   "source": [
    "text[-4:]"
   ],
   "metadata": {
    "collapsed": false,
    "ExecuteTime": {
     "end_time": "2023-11-11T15:48:34.966969729Z",
     "start_time": "2023-11-11T15:48:34.922507708Z"
    }
   },
   "id": "7775f0130946963b"
  },
  {
   "cell_type": "code",
   "execution_count": 70,
   "outputs": [
    {
     "data": {
      "text/plain": "'Aam oa'"
     },
     "execution_count": 70,
     "metadata": {},
     "output_type": "execute_result"
    }
   ],
   "source": [
    "text[::2]"
   ],
   "metadata": {
    "collapsed": false,
    "ExecuteTime": {
     "end_time": "2023-11-11T15:51:42.525449810Z",
     "start_time": "2023-11-11T15:51:42.510980272Z"
    }
   },
   "id": "8b4528be4d47eb79"
  },
  {
   "cell_type": "code",
   "execution_count": 71,
   "outputs": [
    {
     "data": {
      "text/plain": "'atok am alA'"
     },
     "execution_count": 71,
     "metadata": {},
     "output_type": "execute_result"
    }
   ],
   "source": [
    "text[::-1]"
   ],
   "metadata": {
    "collapsed": false,
    "ExecuteTime": {
     "end_time": "2023-11-11T15:53:23.684332865Z",
     "start_time": "2023-11-11T15:53:23.642150213Z"
    }
   },
   "id": "e2157ad96af7ba0c"
  },
  {
   "cell_type": "code",
   "execution_count": 74,
   "outputs": [
    {
     "data": {
      "text/plain": "'atok'"
     },
     "execution_count": 74,
     "metadata": {},
     "output_type": "execute_result"
    }
   ],
   "source": [
    "text[-1:6:-1]"
   ],
   "metadata": {
    "collapsed": false,
    "ExecuteTime": {
     "end_time": "2023-11-11T15:55:22.417468807Z",
     "start_time": "2023-11-11T15:55:22.402982878Z"
    }
   },
   "id": "cce9980243e62afd"
  },
  {
   "cell_type": "code",
   "execution_count": 77,
   "outputs": [
    {
     "data": {
      "text/plain": "'atok'"
     },
     "execution_count": 77,
     "metadata": {},
     "output_type": "execute_result"
    }
   ],
   "source": [
    "text[:-5:-1]"
   ],
   "metadata": {
    "collapsed": false,
    "ExecuteTime": {
     "end_time": "2023-11-11T15:56:42.228045444Z",
     "start_time": "2023-11-11T15:56:42.212813935Z"
    }
   },
   "id": "28c0a7f4390d17ae"
  },
  {
   "cell_type": "code",
   "execution_count": 78,
   "outputs": [
    {
     "data": {
      "text/plain": "'atok'"
     },
     "execution_count": 78,
     "metadata": {},
     "output_type": "execute_result"
    }
   ],
   "source": [
    "text[-4:][::-1]"
   ],
   "metadata": {
    "collapsed": false,
    "ExecuteTime": {
     "end_time": "2023-11-11T15:57:25.464861816Z",
     "start_time": "2023-11-11T15:57:25.420582701Z"
    }
   },
   "id": "7ea21ec3f44ffba3"
  },
  {
   "cell_type": "code",
   "execution_count": 58,
   "outputs": [
    {
     "data": {
      "text/plain": "'tok '"
     },
     "execution_count": 58,
     "metadata": {},
     "output_type": "execute_result"
    }
   ],
   "source": [
    "text[-2:-6:-1]"
   ],
   "metadata": {
    "collapsed": false,
    "ExecuteTime": {
     "end_time": "2023-11-11T15:32:49.370053430Z",
     "start_time": "2023-11-11T15:32:49.360968263Z"
    }
   },
   "id": "5c76cf498dc81867"
  },
  {
   "cell_type": "code",
   "execution_count": 59,
   "outputs": [
    {
     "data": {
      "text/plain": "'m alA'"
     },
     "execution_count": 59,
     "metadata": {},
     "output_type": "execute_result"
    }
   ],
   "source": [
    "text[:5][::-1]"
   ],
   "metadata": {
    "collapsed": false,
    "ExecuteTime": {
     "end_time": "2023-11-11T15:39:30.438384197Z",
     "start_time": "2023-11-11T15:39:30.432129135Z"
    }
   },
   "id": "6f304f329998427"
  },
  {
   "cell_type": "code",
   "execution_count": 19,
   "outputs": [
    {
     "data": {
      "text/plain": "'ko'"
     },
     "execution_count": 19,
     "metadata": {},
     "output_type": "execute_result"
    }
   ],
   "source": [
    "text[-3:6:-1][::-1]"
   ],
   "metadata": {
    "collapsed": false,
    "ExecuteTime": {
     "end_time": "2023-11-11T11:38:51.550076579Z",
     "start_time": "2023-11-11T11:38:51.532807959Z"
    }
   },
   "id": "d1d1c468017c2152"
  },
  {
   "cell_type": "code",
   "execution_count": 9,
   "outputs": [
    {
     "data": {
      "text/plain": "'k am '"
     },
     "execution_count": 9,
     "metadata": {},
     "output_type": "execute_result"
    }
   ],
   "source": [
    "text[-4:2:-1]"
   ],
   "metadata": {
    "collapsed": false,
    "ExecuteTime": {
     "end_time": "2023-11-11T09:02:35.635376221Z",
     "start_time": "2023-11-11T09:02:35.571761646Z"
    }
   },
   "id": "2dfdd20024224834"
  },
  {
   "cell_type": "code",
   "execution_count": 22,
   "outputs": [
    {
     "data": {
      "text/plain": "'A'"
     },
     "execution_count": 22,
     "metadata": {},
     "output_type": "execute_result"
    }
   ],
   "source": [
    "text[0]"
   ],
   "metadata": {
    "collapsed": false,
    "ExecuteTime": {
     "end_time": "2023-11-11T01:00:38.482749043Z",
     "start_time": "2023-11-11T01:00:38.474500188Z"
    }
   },
   "id": "1dfd815edaa3bdfd"
  },
  {
   "cell_type": "code",
   "execution_count": 25,
   "outputs": [
    {
     "data": {
      "text/plain": "'Ala ma kota'"
     },
     "execution_count": 25,
     "metadata": {},
     "output_type": "execute_result"
    }
   ],
   "source": [
    "text[0:]"
   ],
   "metadata": {
    "collapsed": false,
    "ExecuteTime": {
     "end_time": "2023-11-11T01:02:49.550248303Z",
     "start_time": "2023-11-11T01:02:49.539322893Z"
    }
   },
   "id": "b6d1e39abc1c5922"
  },
  {
   "cell_type": "code",
   "execution_count": 28,
   "outputs": [
    {
     "data": {
      "text/plain": "'Ala'"
     },
     "execution_count": 28,
     "metadata": {},
     "output_type": "execute_result"
    }
   ],
   "source": [
    "text[:3]"
   ],
   "metadata": {
    "collapsed": false,
    "ExecuteTime": {
     "end_time": "2023-11-11T01:17:51.684787825Z",
     "start_time": "2023-11-11T01:17:51.670911016Z"
    }
   },
   "id": "bee7eb9034335b1"
  },
  {
   "cell_type": "code",
   "execution_count": 31,
   "outputs": [
    {
     "data": {
      "text/plain": "' kota'"
     },
     "execution_count": 31,
     "metadata": {},
     "output_type": "execute_result"
    }
   ],
   "source": [
    "text[6:]"
   ],
   "metadata": {
    "collapsed": false,
    "ExecuteTime": {
     "end_time": "2023-11-11T01:24:43.809447128Z",
     "start_time": "2023-11-11T01:24:43.802018455Z"
    }
   },
   "id": "395463fa911a1390"
  },
  {
   "cell_type": "code",
   "execution_count": 34,
   "outputs": [
    {
     "data": {
      "text/plain": "'kot'"
     },
     "execution_count": 34,
     "metadata": {},
     "output_type": "execute_result"
    }
   ],
   "source": [
    "text[-4:]"
   ],
   "metadata": {
    "collapsed": false,
    "ExecuteTime": {
     "end_time": "2023-11-11T01:30:03.879872964Z",
     "start_time": "2023-11-11T01:30:03.870410162Z"
    }
   },
   "id": "db58f4827d6750b8"
  },
  {
   "cell_type": "code",
   "execution_count": 35,
   "outputs": [
    {
     "data": {
      "text/plain": "'kot'"
     },
     "execution_count": 35,
     "metadata": {},
     "output_type": "execute_result"
    }
   ],
   "source": [
    "text[-4:10]"
   ],
   "metadata": {
    "collapsed": false,
    "ExecuteTime": {
     "end_time": "2023-11-11T01:30:17.342523678Z",
     "start_time": "2023-11-11T01:30:17.297153394Z"
    }
   },
   "id": "20d6dacb249e926f"
  },
  {
   "cell_type": "code",
   "execution_count": 42,
   "outputs": [
    {
     "data": {
      "text/plain": "'atok'"
     },
     "execution_count": 42,
     "metadata": {},
     "output_type": "execute_result"
    }
   ],
   "source": [
    "text[-1:-5:-1]"
   ],
   "metadata": {
    "collapsed": false,
    "ExecuteTime": {
     "end_time": "2023-11-11T01:37:33.832737638Z",
     "start_time": "2023-11-11T01:37:33.821276953Z"
    }
   },
   "id": "532df2fb67b59a88"
  },
  {
   "cell_type": "code",
   "execution_count": 43,
   "outputs": [
    {
     "data": {
      "text/plain": "'Aam oa'"
     },
     "execution_count": 43,
     "metadata": {},
     "output_type": "execute_result"
    }
   ],
   "source": [
    "text[::2]"
   ],
   "metadata": {
    "collapsed": false,
    "ExecuteTime": {
     "end_time": "2023-11-11T01:38:10.063629328Z",
     "start_time": "2023-11-11T01:38:10.012864293Z"
    }
   },
   "id": "3ecaf0ba29d1e2ad"
  },
  {
   "cell_type": "code",
   "execution_count": 44,
   "outputs": [
    {
     "data": {
      "text/plain": "'ao maA'"
     },
     "execution_count": 44,
     "metadata": {},
     "output_type": "execute_result"
    }
   ],
   "source": [
    "text[::-2]"
   ],
   "metadata": {
    "collapsed": false,
    "ExecuteTime": {
     "end_time": "2023-11-11T01:38:28.068754832Z",
     "start_time": "2023-11-11T01:38:28.033163506Z"
    }
   },
   "id": "4520ec2ecae51a62"
  },
  {
   "cell_type": "code",
   "execution_count": 45,
   "outputs": [
    {
     "data": {
      "text/plain": "'atok am alA'"
     },
     "execution_count": 45,
     "metadata": {},
     "output_type": "execute_result"
    }
   ],
   "source": [
    "text[::-1]"
   ],
   "metadata": {
    "collapsed": false,
    "ExecuteTime": {
     "end_time": "2023-11-11T01:40:02.399916047Z",
     "start_time": "2023-11-11T01:40:02.374905566Z"
    }
   },
   "id": "172940a68f4186d"
  },
  {
   "cell_type": "code",
   "execution_count": 47,
   "outputs": [
    {
     "data": {
      "text/plain": "'atok'"
     },
     "execution_count": 47,
     "metadata": {},
     "output_type": "execute_result"
    }
   ],
   "source": [
    "text[11:6:-1]"
   ],
   "metadata": {
    "collapsed": false,
    "ExecuteTime": {
     "end_time": "2023-11-11T01:41:22.534812806Z",
     "start_time": "2023-11-11T01:41:22.523408376Z"
    }
   },
   "id": "2ee37d6f489cc999"
  },
  {
   "cell_type": "code",
   "execution_count": 48,
   "outputs": [
    {
     "data": {
      "text/plain": "'kota'"
     },
     "execution_count": 48,
     "metadata": {},
     "output_type": "execute_result"
    }
   ],
   "source": [
    "text[11:6:-1][::-1]"
   ],
   "metadata": {
    "collapsed": false,
    "ExecuteTime": {
     "end_time": "2023-11-11T01:49:38.800867298Z",
     "start_time": "2023-11-11T01:49:38.768305282Z"
    }
   },
   "id": "d149e89cd778164e"
  }
 ],
 "metadata": {
  "kernelspec": {
   "display_name": "Python 3",
   "language": "python",
   "name": "python3"
  },
  "language_info": {
   "codemirror_mode": {
    "name": "ipython",
    "version": 2
   },
   "file_extension": ".py",
   "mimetype": "text/x-python",
   "name": "python",
   "nbconvert_exporter": "python",
   "pygments_lexer": "ipython2",
   "version": "2.7.6"
  }
 },
 "nbformat": 4,
 "nbformat_minor": 5
}
